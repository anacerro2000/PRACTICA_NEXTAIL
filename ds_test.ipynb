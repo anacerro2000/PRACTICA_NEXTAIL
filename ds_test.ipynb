{
 "cells": [
  {
   "cell_type": "code",
   "execution_count": 1,
   "source": [
    "import pandas as pd\r\n",
    "import datetime as dt\r\n",
    "from datetime import datetime,timedelta"
   ],
   "outputs": [],
   "metadata": {}
  },
  {
   "cell_type": "markdown",
   "source": [
    "### Current Code:"
   ],
   "metadata": {}
  },
  {
   "cell_type": "code",
   "execution_count": 2,
   "source": [
    "\r\n",
    "def forecast_sales(start_date: datetime, end_date: datetime, sales_data: pd.DataFrame):\r\n",
    "    \r\n",
    "    days_to_forecast = (end_date - start_date).days\r\n",
    "    mean_daily_sales = sales_data[sales_data['date'] < start_date]['sales'].mean()\r\n",
    "    return mean_daily_sales * days_to_forecast"
   ],
   "outputs": [],
   "metadata": {}
  },
  {
   "cell_type": "code",
   "execution_count": 3,
   "source": [
    "def calculate_new_order (order_date: datetime, lead_time_days: int, days_to_next_order: int, \r\n",
    "                         sales_data: pd.DataFrame, current_stock_level: int, stock_in_transit: int):\r\n",
    "    \r\n",
    "    arrival_date = order_date + timedelta(days=lead_time_days)\r\n",
    "    next_arrival_date = order_date + timedelta(days=days_to_next_order + lead_time_days)\r\n",
    "    \r\n",
    "    forecast_leadtime = forecast_sales(order_date, arrival_date, sales_data)\r\n",
    "    estimated_stock_at_arrival = current_stock_level - forecast_leadtime + stock_in_transit \r\n",
    "    \r\n",
    "    forecast_planning_horizon = forecast_sales(arrival_date,next_arrival_date, sales_data)\r\n",
    "    order = max(0,forecast_planning_horizon - estimated_stock_at_arrival)\r\n",
    "    return order"
   ],
   "outputs": [],
   "metadata": {}
  },
  {
   "cell_type": "markdown",
   "source": [
    "### Calculate Reordering\n"
   ],
   "metadata": {}
  },
  {
   "cell_type": "code",
   "execution_count": 4,
   "source": [
    "order_date = datetime(2020,6,1)\r\n",
    "lead_time_days = 90\r\n",
    "days_to_next_order = 30\r\n",
    "current_stock_level = 400\r\n",
    "stock_in_transit = 600"
   ],
   "outputs": [],
   "metadata": {}
  },
  {
   "cell_type": "code",
   "execution_count": 5,
   "source": [
    "sales_data = pd.read_csv('sales_data.csv',parse_dates=['date'])"
   ],
   "outputs": [],
   "metadata": {}
  },
  {
   "cell_type": "code",
   "execution_count": 6,
   "source": [
    "calculate_new_order (order_date=order_date, \r\n",
    "                   lead_time_days=lead_time_days, \r\n",
    "                   days_to_next_order=days_to_next_order, \r\n",
    "                   sales_data=sales_data, \r\n",
    "                   current_stock_level=current_stock_level, \r\n",
    "                   stock_in_transit=stock_in_transit)\r\n"
   ],
   "outputs": [
    {
     "output_type": "execute_result",
     "data": {
      "text/plain": [
       "186.0598684820378"
      ]
     },
     "metadata": {},
     "execution_count": 6
    }
   ],
   "metadata": {}
  }
 ],
 "metadata": {
  "kernelspec": {
   "display_name": "Python 3",
   "language": "python",
   "name": "python3"
  },
  "language_info": {
   "codemirror_mode": {
    "name": "ipython",
    "version": 3
   },
   "file_extension": ".py",
   "mimetype": "text/x-python",
   "name": "python",
   "nbconvert_exporter": "python",
   "pygments_lexer": "ipython3",
   "version": "3.8.3"
  }
 },
 "nbformat": 4,
 "nbformat_minor": 4
}